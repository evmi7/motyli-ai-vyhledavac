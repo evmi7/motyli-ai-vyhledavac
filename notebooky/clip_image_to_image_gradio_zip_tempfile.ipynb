{
 "cells": [
  {
   "cell_type": "markdown",
   "id": "a3da496f",
   "metadata": {},
   "source": [
    "# 🔍🦋 Vyhledávání podobných motýlů podle obrázku 
    "Verze, která vrací platný ZIP soubor přes `gr.File`, a nevyhazuje chyby."
   ]
  },
  {
   "cell_type": "code",
   "execution_count": null,
   "id": "cef928b2",
   "metadata": {},
   "outputs": [],
   "source": [
    "# 📁 Připojení Google Drive\n",
    "from google.colab import drive\n",
    "drive.mount('/content/drive')"
   ]
  },
  {
   "cell_type": "code",
   "execution_count": null,
   "id": "74c11283",
   "metadata": {},
   "outputs": [],
   "source": [
    "# 📦 Instalace knihoven\n",
    "!pip install gradio\n",
    "!pip install ftfy regex tqdm\n",
    "!pip install git+https://github.com/openai/CLIP.git"
   ]
  },
  {
   "cell_type": "code",
   "execution_count": null,
   "id": "cbeaa244",
   "metadata": {},
   "outputs": [],
   "source": [
    "\n",
    "import gradio as gr\n",
    "import clip\n",
    "import torch\n",
    "from PIL import Image\n",
    "from pathlib import Path\n",
    "import io\n",
    "import zipfile\n",
    "import tempfile\n",
    "\n",
    "device = 'cuda' if torch.cuda.is_available() else 'cpu'\n",
    "model, preprocess = clip.load(\"ViT-B/32\", device=device)\n",
    "\n",
    "embedding_path = \"/content/drive/MyDrive/custom_vision/clip_image_embeddings.pt\"\n",
    "data = torch.load(embedding_path, map_location=device)\n",
    "image_embeddings = data[\"embeddings\"]\n",
    "image_paths = [Path(p) for p in data[\"paths\"]]\n",
    "\n",
    "def find_similar_and_zip(uploaded_img):\n",
    "    image = preprocess(uploaded_img).unsqueeze(0).to(device)\n",
    "    with torch.no_grad():\n",
    "        image_embedding = model.encode_image(image)\n",
    "\n",
    "    similarities = (image_embeddings @ image_embedding.T).squeeze(1)\n",
    "    values, indices = similarities.topk(5)\n",
    "\n",
    "    result_paths = []\n",
    "    result_images = []\n",
    "\n",
    "    for i in indices.cpu().tolist():\n",
    "        try:\n",
    "            path = image_paths[i]\n",
    "            result_paths.append(path)\n",
    "            result_images.append(Image.open(path))\n",
    "        except Exception as e:\n",
    "            print(f\"⚠️ Chyba při načítání obrázku {path}: {e}\")\n",
    "\n",
    "    # Uložení ZIP do dočasného souboru\n",
    "    with tempfile.NamedTemporaryFile(delete=False, suffix=\".zip\") as tmp:\n",
    "        with zipfile.ZipFile(tmp, \"w\") as zipf:\n",
    "            for path in result_paths:\n",
    "                if path.exists():\n",
    "                    zipf.write(path, arcname=path.name)\n",
    "        zip_path = tmp.name\n",
    "\n",
    "    return result_images, zip_path\n",
    "\n",
    "demo = gr.Interface(\n",
    "    fn=find_similar_and_zip,\n",
    "    inputs=gr.Image(type=\"pil\", label=\"Nahraj obrázek motýla\"),\n",
    "    outputs=[\n",
    "        gr.Gallery(label=\"Podobné obrázky\"),\n",
    "        gr.File(label=\"📦 Stáhnout ZIP s obrázky\")\n",
    "    ],\n",
    "    title=\"🦋 Vyhledávání podobných motýlů\",\n",
    "    flagging_mode=\"never\"\n",
    ")\n",
    "\n",
    "demo.launch(share=True, debug=True)\n"
   ]
  }
 ],
 "metadata": {},
 "nbformat": 4,
 "nbformat_minor": 5
}
