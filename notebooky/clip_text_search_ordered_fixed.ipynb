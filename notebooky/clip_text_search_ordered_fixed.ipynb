{
 "cells": [
  {
   "cell_type": "markdown",
   "id": "5cff23ce",
   "metadata": {},
   "source": [
    "# 🔍🦋 Vyhledávání obrázků pomocí CLIP (text → obrázek) s uloženými embeddingy\n",
    "Tento notebook:\n",
    "- načítá embeddingy obrázků ze souboru `.pt`\n",
    "- umožňuje zadat textový dotaz přes interaktivní políčko\n",
    "- zobrazuje 5 nejpodobnějších obrázků\n",
    "- má správné pořadí: nejprve widgety, pak funkce, pak propojení tlačítka"
   ]
  },
  {
   "cell_type": "code",
   "execution_count": null,
   "id": "ca34cd95",
   "metadata": {},
   "outputs": [],
   "source": [
    "# 📁 Připojení Google Drive\n",
    "from google.colab import drive\n",
    "drive.mount('/content/drive')"
   ]
  },
  {
   "cell_type": "code",
   "execution_count": null,
   "id": "fe250b8c",
   "metadata": {},
   "outputs": [],
   "source": [
    "# 📦 Instalace knihoven\n",
    "!pip install ftfy regex tqdm\n",
    "!pip install git+https://github.com/openai/CLIP.git"
   ]
  },
  {
   "cell_type": "code",
   "execution_count": null,
   "id": "4fd93633",
   "metadata": {},
   "outputs": [],
   "source": [
    "# 🧠 Načtení CLIP modelu a embeddingů\n",
    "import clip\n",
    "import torch\n",
    "from PIL import Image\n",
    "from pathlib import Path\n",
    "\n",
    "device = 'cuda' if torch.cuda.is_available() else 'cpu'\n",
    "model, preprocess = clip.load(\"ViT-B/32\", device=device)\n",
    "\n",
    "# Načtení uložených embeddingů\n",
    "embedding_path = \"/content/drive/MyDrive/custom_vision/clip_image_embeddings.pt\"\n",
    "data = torch.load(embedding_path, map_location=device)\n",
    "image_embeddings = data['embeddings']\n",
    "images = [Path(p) for p in data['paths']]\n",
    "print(f\"✅ Načteno {len(images)} obrázků a embeddingů.\")"
   ]
  },
  {
   "cell_type": "code",
   "execution_count": null,
   "id": "37d7e7ec",
   "metadata": {},
   "outputs": [],
   "source": [
    "# ✏️ Interaktivní widgety\n",
    "import ipywidgets as widgets\n",
    "from IPython.display import display, clear_output\n",
    "\n",
    "text_widget = widgets.Text(\n",
    "    value='motýl s průhlednými křídly',\n",
    "    placeholder='Zadej textový dotaz...',\n",
    "    description='Dotaz:',\n",
    "    layout=widgets.Layout(width='70%')\n",
    ")\n",
    "\n",
    "search_button = widgets.Button(\n",
    "    description='Vyhledat',\n",
    "    button_style='info',\n",
    "    tooltip='Klikni pro vyhledání',\n",
    "    icon='search'\n",
    ")\n",
    "\n",
    "display(text_widget, search_button)"
   ]
  },
  {
   "cell_type": "code",
   "execution_count": null,
   "id": "0f2649e6",
   "metadata": {},
   "outputs": [],
   "source": [
    "# 🔍 Funkce pro vyhledání podobných obrázků\n",
    "def show_results(_):\n",
    "    clear_output(wait=True)\n",
    "    display(text_widget, search_button)\n",
    "\n",
    "    text_query = text_widget.value\n",
    "    print(f\"🔍 Výsledky pro dotaz: '{text_query}'\\n\")\n",
    "\n",
    "    text = clip.tokenize([text_query]).to(device)\n",
    "    with torch.no_grad():\n",
    "        text_embedding = model.encode_text(text)\n",
    "\n",
    "    similarities = (image_embeddings @ text_embedding.T).squeeze(1)\n",
    "    values, indices = similarities.topk(5)\n",
    "\n",
    "    for rank, i in enumerate(indices.cpu().tolist()):\n",
    "        img_path = images[i]\n",
    "        similarity = values[rank].item()\n",
    "        print(f\"{rank+1}. 🖼️ {img_path.name} (similarita: {similarity:.4f})\")\n",
    "        display(Image.open(img_path).resize((300, 300)))"
   ]
  },
  {
   "cell_type": "code",
   "execution_count": null,
   "id": "ddb5c66f",
   "metadata": {},
   "outputs": [],
   "source": [
    "# 🔗 Propojení tlačítka s funkcí\n",
    "search_button.on_click(show_results)"
   ]
  }
 ],
 "metadata": {},
 "nbformat": 4,
 "nbformat_minor": 5
}
